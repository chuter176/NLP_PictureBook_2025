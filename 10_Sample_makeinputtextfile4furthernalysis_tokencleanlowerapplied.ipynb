{
  "nbformat": 4,
  "nbformat_minor": 0,
  "metadata": {
    "colab": {
      "provenance": [],
      "include_colab_link": true
    },
    "kernelspec": {
      "name": "python3",
      "display_name": "Python 3"
    },
    "language_info": {
      "name": "python"
    }
  },
  "cells": [
    {
      "cell_type": "markdown",
      "metadata": {
        "id": "view-in-github",
        "colab_type": "text"
      },
      "source": [
        "<a href=\"https://colab.research.google.com/github/chuter176/NLP_PictureBook_2025/blob/main/10_Sample_makeinputtextfile4furthernalysis_tokencleanlowerapplied.ipynb\" target=\"_parent\"><img src=\"https://colab.research.google.com/assets/colab-badge.svg\" alt=\"Open In Colab\"/></a>"
      ]
    },
    {
      "cell_type": "markdown",
      "source": [
        "#1️⃣ <font color = 'red'> 🐹🐾 **Final Script to prepare input text for further analysis (e.g., Wordcloud, Lexical Diversity, etc.)**\n",
        "\n",
        "  - # <font color = 'blue'> 🐹🐾 **Important & Useful!**\n",
        "  - ### **This script is based on plain text for \"Household Stories by the Brothers Grimm\" under the Repository of \"PictureBook_Archive_inProgress\".**"
      ],
      "metadata": {
        "id": "DlRtfSQYdex6"
      }
    },
    {
      "cell_type": "code",
      "execution_count": 8,
      "metadata": {
        "colab": {
          "base_uri": "https://localhost:8080/"
        },
        "id": "GT0LsgO85fCm",
        "outputId": "c9e4b5f5-7f6d-49d3-f108-d7d63a772d83"
      },
      "outputs": [
        {
          "output_type": "stream",
          "name": "stdout",
          "text": [
            "Cloning into 'NLP_PictureBook_2025'...\n",
            "remote: Enumerating objects: 227, done.\u001b[K\n",
            "remote: Counting objects: 100% (106/106), done.\u001b[K\n",
            "remote: Compressing objects: 100% (91/91), done.\u001b[K\n",
            "remote: Total 227 (delta 63), reused 15 (delta 15), pack-reused 121 (from 1)\u001b[K\n",
            "Receiving objects: 100% (227/227), 1.11 MiB | 7.22 MiB/s, done.\n",
            "Resolving deltas: 100% (108/108), done.\n"
          ]
        }
      ],
      "source": [
        "! git clone https://github.com/ms624atyale/NLP_PictureBook_2025  #Make copy of the whole repository of a github account."
      ]
    },
    {
      "cell_type": "markdown",
      "source": [
        "##<font color = 'red'> 🆘 **ALERT**\n",
        "## <font color = 'red'> 🆘 **Important & Useful!**\n",
        "\n",
        "## ⤵️ In order to avoid setting a new repository being created as a subdirectory of the old one\n",
        "\n",
        "### <font color = 'blue'> <Python code>\n",
        "### <font color = 'blue'> %cd /content  # Moves to the default root directory in Google Colab\n",
        "\n",
        "## ⤵️ In order to delete the old directory forcefully\n",
        "\n",
        "### <font color = 'blue'> **▶️ Python code**\n",
        "### <font color = 'gray'> **! rm -rf NameofOldRepository**          \n",
        "\n",
        "### <font color = 'gray'> (e.g., **! rm -rf NLP_PictureBook_2025**)\n",
        "\n",
        "# **If this is not working out, rename the old, existing folder as <Eliminated> and drag the new repository under %content/.**\n"
      ],
      "metadata": {
        "id": "fPmvcdN0KP_0"
      }
    },
    {
      "cell_type": "markdown",
      "source": [
        "#2️⃣ 🐹🐾 **Set up the current directory**"
      ],
      "metadata": {
        "id": "7l39aMcg6QF8"
      }
    },
    {
      "cell_type": "code",
      "source": [
        "%cd /content/NLP_PictureBook_2025"
      ],
      "metadata": {
        "colab": {
          "base_uri": "https://localhost:8080/"
        },
        "id": "NyQD9Oxo7Me6",
        "outputId": "22205676-c9c4-41a1-ec14-2336ff10549b"
      },
      "execution_count": 15,
      "outputs": [
        {
          "output_type": "stream",
          "name": "stdout",
          "text": [
            "/content/NLP_PictureBook_2025\n"
          ]
        }
      ]
    },
    {
      "cell_type": "markdown",
      "source": [
        "#3️⃣ 🐹🐾 **Read the txt file**"
      ],
      "metadata": {
        "id": "ugQTa2Md66W5"
      }
    },
    {
      "cell_type": "code",
      "source": [
        "# ▶️ Step 1: You need to modify this codeline 🍩🎂🍎🍏🍦\n",
        "file = open(\"/content/NLP_PictureBook_2025/Data_PG_PT/2_NurseryRyme_Body_LeslieBrooke.txt\", 'rt')\n",
        "\n",
        "txt = file.read()\n",
        "print(txt)\n",
        "file.close() #Using this close()function, you are no longer using your text file of the current workingdirectory with open()function."
      ],
      "metadata": {
        "id": "r_tn-hJp9gje",
        "collapsed": true,
        "colab": {
          "base_uri": "https://localhost:8080/"
        },
        "outputId": "8d526175-d67e-4fe1-b5a7-4a7f7cfc720c"
      },
      "execution_count": 33,
      "outputs": [
        {
          "output_type": "stream",
          "name": "stdout",
          "text": [
            "Johnny Crow\n",
            "Would dig and sow\n",
            "\n",
            "Till he made a little Garden.\n",
            "\n",
            "And the Lion\n",
            "\n",
            "Had a green and yellow Tie on\n",
            "\n",
            "In Johnny Crow's Garden.\n",
            "\n",
            "And the Rat\n",
            "Wore a Feather in his Hat\n",
            "\n",
            "But the Bear\n",
            "Had nothing to wear\n",
            "\n",
            "In Johnny Crow's Garden.\n",
            "\n",
            "So the Ape\n",
            "\n",
            "Took his Measure with a Tape\n",
            "\n",
            "In Johnny Crow's Garden.\n",
            "\n",
            "Then the Crane\n",
            "\n",
            "Was caught in the Rain\n",
            "\n",
            "In Johnny Crow's Garden.\n",
            "\n",
            "And the Beaver\n",
            "Was afraid he had a Fever\n",
            "\n",
            "But the Goat\n",
            "Said:\n",
            "\n",
            "\"It's nothing but his Throat!\"\n",
            "\n",
            "In Johnny Crow's Garden.\n",
            "\n",
            "And the Pig\n",
            "Danced a Jig\n",
            "\n",
            "In Johnny Crow's Garden.\n",
            "\n",
            "Then the Stork\n",
            "Gave a Philosophic Talk\n",
            "\n",
            "Till the Hippopotami\n",
            "Said: \"Ask no further 'What am I?'\"\n",
            "\n",
            "While the Elephant\n",
            "Said something quite irrelevant\n",
            "\n",
            "And the Goose--\n",
            "Well,\n",
            "\n",
            "the Goose _was_ a Goose\n",
            "\n",
            "In Johnny Crow's Garden.\n",
            "\n",
            "And the Mouse\n",
            "\n",
            "Built himself a little House\n",
            "\n",
            "Where the Cat\n",
            "\n",
            "Sat down beside the Mat\n",
            "\n",
            "In Johnny Crow's Garden.\n",
            "\n",
            "And the Whale\n",
            "\n",
            "Told a very long Tale\n",
            "\n",
            "In Johnny Crow's Garden.\n",
            "\n",
            "And the Owl\n",
            "Was a funny old Fowl\n",
            "\n",
            "And the Fox\n",
            "\n",
            "Put them all in the Stocks\n",
            "\n",
            "In Johnny Crow's Garden.\n",
            "\n",
            "But Johnny Crow\n",
            "He let them go\n",
            "\n",
            "And they all sat down\n",
            "to their dinner in a row\n",
            "\n",
            "In Johnny Crow's Garden.\n",
            "\n",
            "\n",
            "\n",
            "\"GOOD-BYE!\"@JOHNNY CROW'S GARDEN@Leslie Brooke\n"
          ]
        }
      ]
    },
    {
      "cell_type": "markdown",
      "source": [
        "#4️⃣ 🐹🐾 **Install NLTK and Download necessary models**"
      ],
      "metadata": {
        "id": "jt3svU1cp2zm"
      }
    },
    {
      "cell_type": "code",
      "source": [
        "!pip install nltk\n",
        "import nltk\n",
        "nltk.download('punkt')\n",
        "nltk.download('punkt_tab')"
      ],
      "metadata": {
        "id": "gBwuDza2-JwS",
        "collapsed": true,
        "colab": {
          "base_uri": "https://localhost:8080/"
        },
        "outputId": "50396666-353e-42eb-f83b-949b4d40df50"
      },
      "execution_count": 11,
      "outputs": [
        {
          "output_type": "stream",
          "name": "stdout",
          "text": [
            "Requirement already satisfied: nltk in /usr/local/lib/python3.11/dist-packages (3.9.1)\n",
            "Requirement already satisfied: click in /usr/local/lib/python3.11/dist-packages (from nltk) (8.1.8)\n",
            "Requirement already satisfied: joblib in /usr/local/lib/python3.11/dist-packages (from nltk) (1.5.0)\n",
            "Requirement already satisfied: regex>=2021.8.3 in /usr/local/lib/python3.11/dist-packages (from nltk) (2024.11.6)\n",
            "Requirement already satisfied: tqdm in /usr/local/lib/python3.11/dist-packages (from nltk) (4.67.1)\n"
          ]
        },
        {
          "output_type": "stream",
          "name": "stderr",
          "text": [
            "[nltk_data] Downloading package punkt to /root/nltk_data...\n",
            "[nltk_data]   Package punkt is already up-to-date!\n",
            "[nltk_data] Downloading package punkt_tab to /root/nltk_data...\n",
            "[nltk_data]   Package punkt_tab is already up-to-date!\n"
          ]
        },
        {
          "output_type": "execute_result",
          "data": {
            "text/plain": [
              "True"
            ]
          },
          "metadata": {},
          "execution_count": 11
        }
      ]
    },
    {
      "cell_type": "markdown",
      "source": [
        "# 5️⃣ 🐹🐾 **Just checking with tokenizing sentences**"
      ],
      "metadata": {
        "id": "pU7HuODPp4H9"
      }
    },
    {
      "cell_type": "code",
      "source": [
        "from nltk.tokenize import sent_tokenize\n",
        "sentence = sent_tokenize(txt)\n",
        "print('Sentence Tokenized: %s' %sentence)"
      ],
      "metadata": {
        "id": "6nya4AxT-2iR",
        "colab": {
          "base_uri": "https://localhost:8080/"
        },
        "outputId": "65a6278a-1e07-4f26-b8fa-a8ea8c1a99ae"
      },
      "execution_count": 17,
      "outputs": [
        {
          "output_type": "stream",
          "name": "stdout",
          "text": [
            "Sentence Tokenized: ['            a farmyard tale     for     ralph and betsy      what a funny sight it is to see a brood of ducklings with a hen!', \"--listen to the story of jemima puddle-duck who was annoyed because the farmer's wife would not let her hatch her own eggs    her sister-in-law mrs rebeccah puddle-duck was perfectly willing to leave the hatching to some one else--i have not the patience to sit on a nest for twenty-eight days; and no more have you jemima you would let them go cold; you know you would!\", 'i wish to hatch my own eggs; i will hatch them all by myself quacked jemima puddle-duck    she tried to hide her eggs; but they were always found and carried off  jemima puddle-duck became quite desperate she determined to make a nest right away from the farm    she set off on a fine spring afternoon along the cart-road that leads over the hill  she was wearing a shawl and a poke bonnet    when she reached the top of the hill she saw a wood in the distance  she thought that it looked a safe quiet spot    jemima puddle-duck was not much in the habit of flying she ran downhill a few yards flapping her shawl and then she jumped off into the air    she flew beautifully when she had got a good start  she skimmed along over the tree-tops until she saw an open place in the middle of the wood where the trees and brushwood had been cleared    jemima alighted rather heavily and began to waddle about in search of a convenient dry nesting-place she rather fancied a tree-stump amongst some tall fox-gloves  but--seated upon the stump she was startled to find an elegantly dressed gentleman reading a newspaper  he had black prick ears and sandy coloured whiskers  quack?', 'said jemima puddle-duck with her head and her bonnet on one side--quack?', 'the gentleman raised his eyes above his newspaper and looked curiously at jemima--  madam have you lost your way?', 'said he he had a long bushy tail which he was sitting upon as the stump was somewhat damp  jemima thought him mighty civil and handsome she explained that she had not lost her way but that she was trying to find a convenient dry nesting-place    ah!', 'is that so?', 'indeed!', 'said the gentleman with sandy whiskers looking curiously at jemima he folded up the newspaper and put it in his coat-tail pocket  jemima complained of the superfluous hen  indeed!', 'how interesting!', 'i wish i could meet with that fowl i would teach it to mind its own business!', \"but as to a nest--there is no difficulty: i have a sackful of feathers in my wood-shed no my dear madam you will be in nobody's way you may sit there as long as you like said the bushy long-tailed gentleman  he led the way to a very retired dismal-looking house amongst the fox-gloves  it was built of faggots and turf and there were two broken pails one on top of another by way of a chimney    this is my summer residence; you would not find my earth--my winter house--so convenient said the hospitable gentleman  there was a tumble-down shed at the back of the house made of old soap-boxes the gentleman opened the door and showed jemima in    the shed was almost quite full of feathers--it was almost suffocating; but it was comfortable and very soft  jemima puddle-duck was rather surprised to find such a vast quantity of feathers but it was very comfortable; and she made a nest without any trouble at all    when she came out the sandy whiskered gentleman was sitting on a log reading the newspaper--at least he had it spread out but he was looking over the top of it  he was so polite that he seemed almost sorry to let jemima go home for the night he promised to take great care of her nest until she came back again next day  he said he loved eggs and ducklings; he should be proud to see a fine nestful in his wood-shed    jemima puddle-duck came every afternoon; she laid nine eggs in the nest they were greeny white and very large the foxy gentleman admired them immensely he used to turn them over and count them when jemima was not there  at last jemima told him that she intended to begin to sit next day--and i will bring a bag of corn with me so that i need never leave my nest until the eggs are hatched they might catch cold said the conscientious jemima    madam i beg you not to trouble yourself with a bag; i will provide oats but before you commence your tedious sitting i intend to give you a treat let us have a dinner-party all to ourselves!\", 'may i ask you to bring up some herbs from the farm-garden to make a savoury omelette?', 'sage and thyme and mint and two onions and some parsley i will provide lard for the stuff--lard for the omelette said the hospitable gentleman with sandy whiskers    jemima puddle-duck was a simpleton: not even the mention of sage and onions made her suspicious  she went round the farm-garden nibbling off snippets of all the different sorts of herbs that are used for stuffing roast duck    and she waddled into the kitchen and got two onions out of a basket  the collie-dog kep met her coming out what are you doing with those onions?', 'where do you go every afternoon by yourself jemima puddle-duck?', 'jemima was rather in awe of the collie; she told him the whole story  the collie listened with his wise head on one side; he grinned when she described the polite gentleman with sandy whiskers    he asked several questions about the wood and about the exact position of the house and shed  then he went out and trotted down the village he went to look for two fox-hound puppies who were out at walk with the butcher    jemima puddle-duck went up the cart-road for the last time on a sunny afternoon she was rather burdened with bunches of herbs and two onions in a bag  she flew over the wood and alighted opposite the house of the bushy long-tailed gentleman    he was sitting on a log; he sniffed the air and kept glancing uneasily round the wood when jemima alighted he quite jumped  come into the house as soon as you have looked at your eggs give me the herbs for the omelette be sharp!', 'he was rather abrupt jemima puddle-duck had never heard him speak like that  she felt surprised and uncomfortable    while she was inside she heard pattering feet round the back of the shed some one with a black nose sniffed at the bottom of the door and then locked it  jemima became much alarmed    a moment afterwards there were most awful noises--barking baying growls and howls squealing and groans  and nothing more was ever seen of that foxy-whiskered gentleman  presently kep opened the door of the shed and let out jemima puddle-duck    unfortunately the puppies rushed in and gobbled up all the eggs before he could stop them  he had a bite on his ear and both the puppies were limping    jemima puddle-duck was escorted home in tears on account of those eggs    she laid some more in june and she was permitted to keep them herself: but only four of them hatched  jemima puddle-duck said that it was because of her nerves; but she had always been a bad sitter@the tale of jemima puddle-duck@beatrix potter']\n"
          ]
        }
      ]
    },
    {
      "cell_type": "markdown",
      "source": [
        "# 6️⃣ 📍📍 **Apply a series of functions for replacement**"
      ],
      "metadata": {
        "id": "s9pIkCMfI-oc"
      }
    },
    {
      "cell_type": "code",
      "source": [
        "import re\n",
        "\n",
        "# ▶️ Step 1: Read file to change path as needed 🍩🎂🍎🍏🍦\n",
        "with open(\"/content/NLP_PictureBook_2025/Data_PG_PT/2_NurseryRyme_Body_LeslieBrooke.txt\", 'rt') as fl:\n",
        "    raw_text = fl.read()\n",
        "\n",
        "# ▶️ STEP 2: Clean the text\n",
        "clean_text = (\n",
        "    raw_text\n",
        "    .lower()\n",
        "    .replace(\"\\n\", \" \")\n",
        "    .replace(\"“\", \"\")\n",
        "    .replace(\"”\", \"\")\n",
        "    .replace(\"\\\"\", \"\")\n",
        "    .replace(\"_\", \"\")\n",
        "    .replace(\"[illustration]\", \"\")\n",
        "    .replace(\"*\", \"\")\n",
        "    .replace(\"?\",'')\n",
        "    .replace(\".\", \"\")\n",
        "    .replace(\",\", \"\")\n",
        "    .replace(\"(\", \"\")\n",
        "    .replace(\")\", \"\")\n",
        ")\n",
        "\n",
        "# ▶️ STEP 3: Save the cleaned content to a NEW file\n",
        "output_path = \"/content/NLP_PictureBook_2025/Data_PG_Clean/2_NurseryRyme_Cleaned_BeatrixPotter.txt\"\n",
        "with open(output_path, 'w') as cf:\n",
        "    cf.write(clean_text) #Get content named 'clean_text' to the new empty file\n",
        "\n",
        "# ▶️ Optional: Print to verify\n",
        "print(\"✅ Cleaned text saved to:\", output_path)"
      ],
      "metadata": {
        "colab": {
          "base_uri": "https://localhost:8080/"
        },
        "id": "9l6dyLoYImhx",
        "outputId": "0fcf8428-8838-411d-d6dd-ed8c9384634e"
      },
      "execution_count": 36,
      "outputs": [
        {
          "output_type": "stream",
          "name": "stdout",
          "text": [
            "✅ Cleaned text saved to: /content/NLP_PictureBook_2025/Data_PG_Clean/2_NurseryRyme_Cleaned_BeatrixPotter.txt\n"
          ]
        }
      ]
    },
    {
      "cell_type": "markdown",
      "source": [
        "# 7️⃣ 🐹🐾 **Just cheking the result file with cleaning applied**\n",
        "- **Sentence Tokenization**\n",
        "- **Tokenizing Words with Regular Tokenizer**\n",
        "- **Get tokenized words put in sequence**"
      ],
      "metadata": {
        "id": "SACJ4rQ5qPo-"
      }
    },
    {
      "cell_type": "code",
      "source": [
        "from nltk.tokenize import sent_tokenize\n",
        "\n",
        "sentence = sent_tokenize(clean_text)\n",
        "print('Sentence Tokenized: %s' %sentence)\n",
        "\n",
        "from nltk.tokenize import RegexpTokenizer #RegexpTokenizer as a class\n",
        "import re\n",
        "\n",
        "tok = RegexpTokenizer(\"[\\w]+\") # Alert: You cannot use RegexpTokenizer() without argument. You need a regexpression formula.\n",
        "\n",
        "tk = tok.tokenize(clean_text)\n",
        "print('Tokenizing Words with RegexpTokenizer: %s' %tk)\n",
        "\n",
        "print(' '.join(tk)) #small characters\n",
        "#alternatively, use the codeline of ' '.join(tkn)"
      ],
      "metadata": {
        "colab": {
          "base_uri": "https://localhost:8080/"
        },
        "id": "ctwXWSdaKxBf",
        "outputId": "2182788c-0e3d-4942-c124-29fdedac4c1e"
      },
      "execution_count": null,
      "outputs": [
        {
          "output_type": "stream",
          "name": "stdout",
          "text": [
            "Sentence Tokenized: [\"text@title@author   one morning a little rabbit sat on a bank  he pricked his ears and listened to the trit-trot trit-trot of a pony  a gig was coming along the road; it was driven by mr mcgregor and beside him sat mrs mcgregor in her best bonnet  as soon as they had passed little benjamin bunny slid down into the road and set off--with a hop skip and a jump--to call upon his relations who lived in the wood at the back of mr mcgregor's garden      that wood was full of rabbit holes; and in the neatest sandiest hole of all lived benjamin's aunt and his cousins--flopsy mopsy cotton-tail and peter  old mrs rabbit was a widow; she earned her living by knitting rabbit-wool mittens and muffatees i once bought a pair at a bazaar she also sold herbs and rosemary tea and rabbit-tobacco which is what we call lavender  little benjamin did not very much want to see his aunt  he came round the back of the fir-tree and nearly tumbled upon the top of his cousin peter      peter was sitting by himself he looked poorly and was dressed in a red cotton pocket-handkerchief  peter said little benjamin in a whisper who has got your clothes?\", \"peter replied the scarecrow in mr mcgregor's garden and described how he had been chased about the garden and had dropped his shoes and coat  little benjamin sat down beside his cousin and assured him that mr mcgregor had gone out in a gig and mrs mcgregor also; and certainly for the day because she was wearing her best bonnet      peter said he hoped that it would rain  at this point old mrs rabbit's voice was heard inside the rabbit hole calling: cotton-tail!\", 'cotton-tail!', 'fetch some more camomile!', \"peter said he thought he might feel better if he went for a walk  they went away hand in hand and got upon the flat top of the wall at the bottom of the wood from here they looked down into mr mcgregor's garden peter's coat and shoes were plainly to be seen upon the scarecrow topped with an old tam-o'-shanter of mr mcgregor's      little benjamin said: it spoils people's clothes to squeeze under a gate; the proper way to get in is to climb down a pear-tree  peter fell down head first; but it was of no consequence as the bed below was newly raked and quite soft  it had been sown with lettuces  they left a great many odd little footmarks all over the bed especially little benjamin who was wearing clogs      little benjamin said that the first thing to be done was to get back peter's clothes in order that they might be able to use the pocket-handkerchief  they took them off the scarecrow there had been rain during the night; there was water in the shoes and the coat was somewhat shrunk  benjamin tried on the tam-o'-shanter but it was too big for him  then he suggested that they should fill the pocket-handkerchief with onions as a little present for his aunt  peter did not seem to be enjoying himself; he kept hearing noises       benjamin on the contrary was perfectly at home and ate a lettuce leaf he said that he was in the habit of coming to the garden with his father to get lettuces for their sunday dinner  the name of little benjamin's papa was old mr benjamin bunny  the lettuces certainly were very fine  peter did not eat anything; he said he should like to go home presently he dropped half the onions      little benjamin said that it was not possible to get back up the pear-tree with a load of vegetables he led the way boldly towards the other end of the garden they went along a little walk on planks under a sunny red brick wall  the mice sat on their doorsteps cracking cherry-stones; they winked at peter rabbit and little benjamin bunny  presently peter let the pocket-handkerchief go again      they got amongst flower-pots and frames and tubs peter heard noises worse than ever; his eyes were as big as lolly-pops!\", 'he was a step or two in front of his cousin when he suddenly stopped  this is what those little rabbits saw round that corner!', 'little benjamin took one look and then in half a minute less than no time he hid himself and peter and the onions underneath a large basket      the cat got up and stretched herself and came and sniffed at the basket  perhaps she liked the smell of onions!', 'anyway she sat down upon the top of the basket  she sat there for five hours                                       i cannot draw you a picture of peter and benjamin underneath the basket because it was quite dark and because the smell of onions was fearful; it made peter rabbit and little benjamin cry  the sun got round behind the wood and it was quite late in the afternoon; but still the cat sat upon the basket      at length there was a pitter-patter pitter-patter and some bits of mortar fell from the wall above  the cat looked up and saw old mr benjamin bunny prancing along the top of the wall of the upper terrace  he was smoking a pipe of rabbit-tobacco and had a little switch in his hand  he was looking for his son  old mr bunny had no opinion whatever of cats  he took a tremendous jump off the top of the wall on to the top of the cat and cuffed it off the basket and kicked it into the greenhouse scratching off a handful of fur  the cat was too much surprised to scratch back      when old mr bunny had driven the cat into the greenhouse he locked the door  then he came back to the basket and took out his son benjamin by the ears and whipped him with the little switch  then he took out his nephew peter  then he took out the handkerchief of onions and marched out of the garden    when mr mcgregor returned about half an hour later he observed several things which perplexed him  it looked as though some person had been walking all over the garden in a pair of clogs--only the footmarks were too ridiculously little!', 'also he could not understand how the cat could have managed to shut herself up inside the greenhouse locking the door upon the outside      when peter got home his mother forgave him because she was so glad to see that he had found his shoes and coat cotton-tail and peter folded up the pocket-handkerchief and old mrs rabbit strung up the onions and hung them from the kitchen ceiling with the bunches of herbs and the rabbit-tobacco@the tale of benjamin bunny@beatrix potter']\n",
            "Tokenizing Words with RegexpTokenizer: ['text', 'title', 'author', 'one', 'morning', 'a', 'little', 'rabbit', 'sat', 'on', 'a', 'bank', 'he', 'pricked', 'his', 'ears', 'and', 'listened', 'to', 'the', 'trit', 'trot', 'trit', 'trot', 'of', 'a', 'pony', 'a', 'gig', 'was', 'coming', 'along', 'the', 'road', 'it', 'was', 'driven', 'by', 'mr', 'mcgregor', 'and', 'beside', 'him', 'sat', 'mrs', 'mcgregor', 'in', 'her', 'best', 'bonnet', 'as', 'soon', 'as', 'they', 'had', 'passed', 'little', 'benjamin', 'bunny', 'slid', 'down', 'into', 'the', 'road', 'and', 'set', 'off', 'with', 'a', 'hop', 'skip', 'and', 'a', 'jump', 'to', 'call', 'upon', 'his', 'relations', 'who', 'lived', 'in', 'the', 'wood', 'at', 'the', 'back', 'of', 'mr', 'mcgregor', 's', 'garden', 'that', 'wood', 'was', 'full', 'of', 'rabbit', 'holes', 'and', 'in', 'the', 'neatest', 'sandiest', 'hole', 'of', 'all', 'lived', 'benjamin', 's', 'aunt', 'and', 'his', 'cousins', 'flopsy', 'mopsy', 'cotton', 'tail', 'and', 'peter', 'old', 'mrs', 'rabbit', 'was', 'a', 'widow', 'she', 'earned', 'her', 'living', 'by', 'knitting', 'rabbit', 'wool', 'mittens', 'and', 'muffatees', 'i', 'once', 'bought', 'a', 'pair', 'at', 'a', 'bazaar', 'she', 'also', 'sold', 'herbs', 'and', 'rosemary', 'tea', 'and', 'rabbit', 'tobacco', 'which', 'is', 'what', 'we', 'call', 'lavender', 'little', 'benjamin', 'did', 'not', 'very', 'much', 'want', 'to', 'see', 'his', 'aunt', 'he', 'came', 'round', 'the', 'back', 'of', 'the', 'fir', 'tree', 'and', 'nearly', 'tumbled', 'upon', 'the', 'top', 'of', 'his', 'cousin', 'peter', 'peter', 'was', 'sitting', 'by', 'himself', 'he', 'looked', 'poorly', 'and', 'was', 'dressed', 'in', 'a', 'red', 'cotton', 'pocket', 'handkerchief', 'peter', 'said', 'little', 'benjamin', 'in', 'a', 'whisper', 'who', 'has', 'got', 'your', 'clothes', 'peter', 'replied', 'the', 'scarecrow', 'in', 'mr', 'mcgregor', 's', 'garden', 'and', 'described', 'how', 'he', 'had', 'been', 'chased', 'about', 'the', 'garden', 'and', 'had', 'dropped', 'his', 'shoes', 'and', 'coat', 'little', 'benjamin', 'sat', 'down', 'beside', 'his', 'cousin', 'and', 'assured', 'him', 'that', 'mr', 'mcgregor', 'had', 'gone', 'out', 'in', 'a', 'gig', 'and', 'mrs', 'mcgregor', 'also', 'and', 'certainly', 'for', 'the', 'day', 'because', 'she', 'was', 'wearing', 'her', 'best', 'bonnet', 'peter', 'said', 'he', 'hoped', 'that', 'it', 'would', 'rain', 'at', 'this', 'point', 'old', 'mrs', 'rabbit', 's', 'voice', 'was', 'heard', 'inside', 'the', 'rabbit', 'hole', 'calling', 'cotton', 'tail', 'cotton', 'tail', 'fetch', 'some', 'more', 'camomile', 'peter', 'said', 'he', 'thought', 'he', 'might', 'feel', 'better', 'if', 'he', 'went', 'for', 'a', 'walk', 'they', 'went', 'away', 'hand', 'in', 'hand', 'and', 'got', 'upon', 'the', 'flat', 'top', 'of', 'the', 'wall', 'at', 'the', 'bottom', 'of', 'the', 'wood', 'from', 'here', 'they', 'looked', 'down', 'into', 'mr', 'mcgregor', 's', 'garden', 'peter', 's', 'coat', 'and', 'shoes', 'were', 'plainly', 'to', 'be', 'seen', 'upon', 'the', 'scarecrow', 'topped', 'with', 'an', 'old', 'tam', 'o', 'shanter', 'of', 'mr', 'mcgregor', 's', 'little', 'benjamin', 'said', 'it', 'spoils', 'people', 's', 'clothes', 'to', 'squeeze', 'under', 'a', 'gate', 'the', 'proper', 'way', 'to', 'get', 'in', 'is', 'to', 'climb', 'down', 'a', 'pear', 'tree', 'peter', 'fell', 'down', 'head', 'first', 'but', 'it', 'was', 'of', 'no', 'consequence', 'as', 'the', 'bed', 'below', 'was', 'newly', 'raked', 'and', 'quite', 'soft', 'it', 'had', 'been', 'sown', 'with', 'lettuces', 'they', 'left', 'a', 'great', 'many', 'odd', 'little', 'footmarks', 'all', 'over', 'the', 'bed', 'especially', 'little', 'benjamin', 'who', 'was', 'wearing', 'clogs', 'little', 'benjamin', 'said', 'that', 'the', 'first', 'thing', 'to', 'be', 'done', 'was', 'to', 'get', 'back', 'peter', 's', 'clothes', 'in', 'order', 'that', 'they', 'might', 'be', 'able', 'to', 'use', 'the', 'pocket', 'handkerchief', 'they', 'took', 'them', 'off', 'the', 'scarecrow', 'there', 'had', 'been', 'rain', 'during', 'the', 'night', 'there', 'was', 'water', 'in', 'the', 'shoes', 'and', 'the', 'coat', 'was', 'somewhat', 'shrunk', 'benjamin', 'tried', 'on', 'the', 'tam', 'o', 'shanter', 'but', 'it', 'was', 'too', 'big', 'for', 'him', 'then', 'he', 'suggested', 'that', 'they', 'should', 'fill', 'the', 'pocket', 'handkerchief', 'with', 'onions', 'as', 'a', 'little', 'present', 'for', 'his', 'aunt', 'peter', 'did', 'not', 'seem', 'to', 'be', 'enjoying', 'himself', 'he', 'kept', 'hearing', 'noises', 'benjamin', 'on', 'the', 'contrary', 'was', 'perfectly', 'at', 'home', 'and', 'ate', 'a', 'lettuce', 'leaf', 'he', 'said', 'that', 'he', 'was', 'in', 'the', 'habit', 'of', 'coming', 'to', 'the', 'garden', 'with', 'his', 'father', 'to', 'get', 'lettuces', 'for', 'their', 'sunday', 'dinner', 'the', 'name', 'of', 'little', 'benjamin', 's', 'papa', 'was', 'old', 'mr', 'benjamin', 'bunny', 'the', 'lettuces', 'certainly', 'were', 'very', 'fine', 'peter', 'did', 'not', 'eat', 'anything', 'he', 'said', 'he', 'should', 'like', 'to', 'go', 'home', 'presently', 'he', 'dropped', 'half', 'the', 'onions', 'little', 'benjamin', 'said', 'that', 'it', 'was', 'not', 'possible', 'to', 'get', 'back', 'up', 'the', 'pear', 'tree', 'with', 'a', 'load', 'of', 'vegetables', 'he', 'led', 'the', 'way', 'boldly', 'towards', 'the', 'other', 'end', 'of', 'the', 'garden', 'they', 'went', 'along', 'a', 'little', 'walk', 'on', 'planks', 'under', 'a', 'sunny', 'red', 'brick', 'wall', 'the', 'mice', 'sat', 'on', 'their', 'doorsteps', 'cracking', 'cherry', 'stones', 'they', 'winked', 'at', 'peter', 'rabbit', 'and', 'little', 'benjamin', 'bunny', 'presently', 'peter', 'let', 'the', 'pocket', 'handkerchief', 'go', 'again', 'they', 'got', 'amongst', 'flower', 'pots', 'and', 'frames', 'and', 'tubs', 'peter', 'heard', 'noises', 'worse', 'than', 'ever', 'his', 'eyes', 'were', 'as', 'big', 'as', 'lolly', 'pops', 'he', 'was', 'a', 'step', 'or', 'two', 'in', 'front', 'of', 'his', 'cousin', 'when', 'he', 'suddenly', 'stopped', 'this', 'is', 'what', 'those', 'little', 'rabbits', 'saw', 'round', 'that', 'corner', 'little', 'benjamin', 'took', 'one', 'look', 'and', 'then', 'in', 'half', 'a', 'minute', 'less', 'than', 'no', 'time', 'he', 'hid', 'himself', 'and', 'peter', 'and', 'the', 'onions', 'underneath', 'a', 'large', 'basket', 'the', 'cat', 'got', 'up', 'and', 'stretched', 'herself', 'and', 'came', 'and', 'sniffed', 'at', 'the', 'basket', 'perhaps', 'she', 'liked', 'the', 'smell', 'of', 'onions', 'anyway', 'she', 'sat', 'down', 'upon', 'the', 'top', 'of', 'the', 'basket', 'she', 'sat', 'there', 'for', 'five', 'hours', 'i', 'cannot', 'draw', 'you', 'a', 'picture', 'of', 'peter', 'and', 'benjamin', 'underneath', 'the', 'basket', 'because', 'it', 'was', 'quite', 'dark', 'and', 'because', 'the', 'smell', 'of', 'onions', 'was', 'fearful', 'it', 'made', 'peter', 'rabbit', 'and', 'little', 'benjamin', 'cry', 'the', 'sun', 'got', 'round', 'behind', 'the', 'wood', 'and', 'it', 'was', 'quite', 'late', 'in', 'the', 'afternoon', 'but', 'still', 'the', 'cat', 'sat', 'upon', 'the', 'basket', 'at', 'length', 'there', 'was', 'a', 'pitter', 'patter', 'pitter', 'patter', 'and', 'some', 'bits', 'of', 'mortar', 'fell', 'from', 'the', 'wall', 'above', 'the', 'cat', 'looked', 'up', 'and', 'saw', 'old', 'mr', 'benjamin', 'bunny', 'prancing', 'along', 'the', 'top', 'of', 'the', 'wall', 'of', 'the', 'upper', 'terrace', 'he', 'was', 'smoking', 'a', 'pipe', 'of', 'rabbit', 'tobacco', 'and', 'had', 'a', 'little', 'switch', 'in', 'his', 'hand', 'he', 'was', 'looking', 'for', 'his', 'son', 'old', 'mr', 'bunny', 'had', 'no', 'opinion', 'whatever', 'of', 'cats', 'he', 'took', 'a', 'tremendous', 'jump', 'off', 'the', 'top', 'of', 'the', 'wall', 'on', 'to', 'the', 'top', 'of', 'the', 'cat', 'and', 'cuffed', 'it', 'off', 'the', 'basket', 'and', 'kicked', 'it', 'into', 'the', 'greenhouse', 'scratching', 'off', 'a', 'handful', 'of', 'fur', 'the', 'cat', 'was', 'too', 'much', 'surprised', 'to', 'scratch', 'back', 'when', 'old', 'mr', 'bunny', 'had', 'driven', 'the', 'cat', 'into', 'the', 'greenhouse', 'he', 'locked', 'the', 'door', 'then', 'he', 'came', 'back', 'to', 'the', 'basket', 'and', 'took', 'out', 'his', 'son', 'benjamin', 'by', 'the', 'ears', 'and', 'whipped', 'him', 'with', 'the', 'little', 'switch', 'then', 'he', 'took', 'out', 'his', 'nephew', 'peter', 'then', 'he', 'took', 'out', 'the', 'handkerchief', 'of', 'onions', 'and', 'marched', 'out', 'of', 'the', 'garden', 'when', 'mr', 'mcgregor', 'returned', 'about', 'half', 'an', 'hour', 'later', 'he', 'observed', 'several', 'things', 'which', 'perplexed', 'him', 'it', 'looked', 'as', 'though', 'some', 'person', 'had', 'been', 'walking', 'all', 'over', 'the', 'garden', 'in', 'a', 'pair', 'of', 'clogs', 'only', 'the', 'footmarks', 'were', 'too', 'ridiculously', 'little', 'also', 'he', 'could', 'not', 'understand', 'how', 'the', 'cat', 'could', 'have', 'managed', 'to', 'shut', 'herself', 'up', 'inside', 'the', 'greenhouse', 'locking', 'the', 'door', 'upon', 'the', 'outside', 'when', 'peter', 'got', 'home', 'his', 'mother', 'forgave', 'him', 'because', 'she', 'was', 'so', 'glad', 'to', 'see', 'that', 'he', 'had', 'found', 'his', 'shoes', 'and', 'coat', 'cotton', 'tail', 'and', 'peter', 'folded', 'up', 'the', 'pocket', 'handkerchief', 'and', 'old', 'mrs', 'rabbit', 'strung', 'up', 'the', 'onions', 'and', 'hung', 'them', 'from', 'the', 'kitchen', 'ceiling', 'with', 'the', 'bunches', 'of', 'herbs', 'and', 'the', 'rabbit', 'tobacco', 'the', 'tale', 'of', 'benjamin', 'bunny', 'beatrix', 'potter']\n",
            "text title author one morning a little rabbit sat on a bank he pricked his ears and listened to the trit trot trit trot of a pony a gig was coming along the road it was driven by mr mcgregor and beside him sat mrs mcgregor in her best bonnet as soon as they had passed little benjamin bunny slid down into the road and set off with a hop skip and a jump to call upon his relations who lived in the wood at the back of mr mcgregor s garden that wood was full of rabbit holes and in the neatest sandiest hole of all lived benjamin s aunt and his cousins flopsy mopsy cotton tail and peter old mrs rabbit was a widow she earned her living by knitting rabbit wool mittens and muffatees i once bought a pair at a bazaar she also sold herbs and rosemary tea and rabbit tobacco which is what we call lavender little benjamin did not very much want to see his aunt he came round the back of the fir tree and nearly tumbled upon the top of his cousin peter peter was sitting by himself he looked poorly and was dressed in a red cotton pocket handkerchief peter said little benjamin in a whisper who has got your clothes peter replied the scarecrow in mr mcgregor s garden and described how he had been chased about the garden and had dropped his shoes and coat little benjamin sat down beside his cousin and assured him that mr mcgregor had gone out in a gig and mrs mcgregor also and certainly for the day because she was wearing her best bonnet peter said he hoped that it would rain at this point old mrs rabbit s voice was heard inside the rabbit hole calling cotton tail cotton tail fetch some more camomile peter said he thought he might feel better if he went for a walk they went away hand in hand and got upon the flat top of the wall at the bottom of the wood from here they looked down into mr mcgregor s garden peter s coat and shoes were plainly to be seen upon the scarecrow topped with an old tam o shanter of mr mcgregor s little benjamin said it spoils people s clothes to squeeze under a gate the proper way to get in is to climb down a pear tree peter fell down head first but it was of no consequence as the bed below was newly raked and quite soft it had been sown with lettuces they left a great many odd little footmarks all over the bed especially little benjamin who was wearing clogs little benjamin said that the first thing to be done was to get back peter s clothes in order that they might be able to use the pocket handkerchief they took them off the scarecrow there had been rain during the night there was water in the shoes and the coat was somewhat shrunk benjamin tried on the tam o shanter but it was too big for him then he suggested that they should fill the pocket handkerchief with onions as a little present for his aunt peter did not seem to be enjoying himself he kept hearing noises benjamin on the contrary was perfectly at home and ate a lettuce leaf he said that he was in the habit of coming to the garden with his father to get lettuces for their sunday dinner the name of little benjamin s papa was old mr benjamin bunny the lettuces certainly were very fine peter did not eat anything he said he should like to go home presently he dropped half the onions little benjamin said that it was not possible to get back up the pear tree with a load of vegetables he led the way boldly towards the other end of the garden they went along a little walk on planks under a sunny red brick wall the mice sat on their doorsteps cracking cherry stones they winked at peter rabbit and little benjamin bunny presently peter let the pocket handkerchief go again they got amongst flower pots and frames and tubs peter heard noises worse than ever his eyes were as big as lolly pops he was a step or two in front of his cousin when he suddenly stopped this is what those little rabbits saw round that corner little benjamin took one look and then in half a minute less than no time he hid himself and peter and the onions underneath a large basket the cat got up and stretched herself and came and sniffed at the basket perhaps she liked the smell of onions anyway she sat down upon the top of the basket she sat there for five hours i cannot draw you a picture of peter and benjamin underneath the basket because it was quite dark and because the smell of onions was fearful it made peter rabbit and little benjamin cry the sun got round behind the wood and it was quite late in the afternoon but still the cat sat upon the basket at length there was a pitter patter pitter patter and some bits of mortar fell from the wall above the cat looked up and saw old mr benjamin bunny prancing along the top of the wall of the upper terrace he was smoking a pipe of rabbit tobacco and had a little switch in his hand he was looking for his son old mr bunny had no opinion whatever of cats he took a tremendous jump off the top of the wall on to the top of the cat and cuffed it off the basket and kicked it into the greenhouse scratching off a handful of fur the cat was too much surprised to scratch back when old mr bunny had driven the cat into the greenhouse he locked the door then he came back to the basket and took out his son benjamin by the ears and whipped him with the little switch then he took out his nephew peter then he took out the handkerchief of onions and marched out of the garden when mr mcgregor returned about half an hour later he observed several things which perplexed him it looked as though some person had been walking all over the garden in a pair of clogs only the footmarks were too ridiculously little also he could not understand how the cat could have managed to shut herself up inside the greenhouse locking the door upon the outside when peter got home his mother forgave him because she was so glad to see that he had found his shoes and coat cotton tail and peter folded up the pocket handkerchief and old mrs rabbit strung up the onions and hung them from the kitchen ceiling with the bunches of herbs and the rabbit tobacco the tale of benjamin bunny beatrix potter\n"
          ]
        }
      ]
    },
    {
      "cell_type": "markdown",
      "source": [
        "#⚠️ <font color = 'green'>**This is the end of the Script! You did a good job!** **"
      ],
      "metadata": {
        "id": "DUcWWwfGCGf7"
      }
    }
  ]
}